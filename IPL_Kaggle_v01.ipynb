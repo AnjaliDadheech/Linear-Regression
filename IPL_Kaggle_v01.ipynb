{
 "cells": [
  {
   "cell_type": "code",
   "execution_count": 1,
   "metadata": {},
   "outputs": [],
   "source": [
    "import os\n",
    "import pandas as pd\n",
    "import numpy as np"
   ]
  },
  {
   "cell_type": "code",
   "execution_count": 2,
   "metadata": {},
   "outputs": [
    {
     "data": {
      "text/plain": [
       "'c:\\\\Users\\\\HP\\\\Desktop\\\\Practice\\\\LinearRegression\\\\Linear-Regression'"
      ]
     },
     "execution_count": 2,
     "metadata": {},
     "output_type": "execute_result"
    }
   ],
   "source": [
    "os.getcwd()"
   ]
  },
  {
   "cell_type": "code",
   "execution_count": 3,
   "metadata": {},
   "outputs": [
    {
     "name": "stdout",
     "output_type": "stream",
     "text": [
      "['.conda', '.git', 'avik.ipynb', 'deliveries.csv', 'IPL Kaggle Practice', 'IPL_Kaggle_v01.ipynb', 'Kaggle_Walmart_junk_01.ipynb', 'matches.csv']\n"
     ]
    }
   ],
   "source": [
    "files = os.listdir()\n",
    "print(files)"
   ]
  },
  {
   "cell_type": "code",
   "execution_count": 4,
   "metadata": {},
   "outputs": [],
   "source": [
    "# display all columns of dataset while printing head \n",
    "pd.set_option(\"display.max_columns\", None)"
   ]
  },
  {
   "cell_type": "code",
   "execution_count": 5,
   "metadata": {},
   "outputs": [],
   "source": [
    "test = pd.read_csv(\"matches.csv\")"
   ]
  },
  {
   "cell_type": "code",
   "execution_count": 6,
   "metadata": {},
   "outputs": [],
   "source": [
    "test1 = pd.read_csv(\"deliveries.csv\")"
   ]
  },
  {
   "cell_type": "code",
   "execution_count": 7,
   "metadata": {},
   "outputs": [],
   "source": [
    "# merge both data set on common column (match id ) \n",
    "combined_df =  (pd.merge(test, test1, left_on='id', right_on='match_id', how='left').drop('match_id', axis=1))\n"
   ]
  },
  {
   "cell_type": "code",
   "execution_count": 8,
   "metadata": {},
   "outputs": [],
   "source": [
    "new_combineddf = combined_df"
   ]
  },
  {
   "cell_type": "code",
   "execution_count": 9,
   "metadata": {},
   "outputs": [],
   "source": [
    "#new column mentioning if the batter was player of the match \n",
    "new_combineddf['player'] = new_combineddf['player_of_match'] == new_combineddf['batter']\n"
   ]
  },
  {
   "cell_type": "code",
   "execution_count": 10,
   "metadata": {},
   "outputs": [],
   "source": [
    " \n",
    "new_combineddf['date'] = pd.to_datetime(new_combineddf['date'])"
   ]
  },
  {
   "cell_type": "code",
   "execution_count": 11,
   "metadata": {},
   "outputs": [],
   "source": [
    "# Split date into month and year \n",
    "new_combineddf['year'], new_combineddf['month'] = new_combineddf['date'].dt.year, new_combineddf['date'].dt.month"
   ]
  },
  {
   "cell_type": "code",
   "execution_count": 12,
   "metadata": {},
   "outputs": [
    {
     "data": {
      "text/plain": [
       "Index(['id', 'season', 'city', 'date', 'match_type', 'player_of_match',\n",
       "       'venue', 'team1', 'team2', 'toss_winner', 'toss_decision', 'winner',\n",
       "       'result', 'result_margin', 'target_runs', 'target_overs', 'super_over',\n",
       "       'method', 'umpire1', 'umpire2', 'inning', 'batting_team',\n",
       "       'bowling_team', 'over', 'ball', 'batter', 'bowler', 'non_striker',\n",
       "       'batsman_runs', 'extra_runs', 'total_runs', 'extras_type', 'is_wicket',\n",
       "       'player_dismissed', 'dismissal_kind', 'fielder', 'player', 'year',\n",
       "       'month'],\n",
       "      dtype='object')"
      ]
     },
     "execution_count": 12,
     "metadata": {},
     "output_type": "execute_result"
    }
   ],
   "source": [
    "new_combineddf.columns"
   ]
  },
  {
   "cell_type": "code",
   "execution_count": 13,
   "metadata": {},
   "outputs": [],
   "source": [
    "slim_rawdata = new_combineddf.drop(['season','date','result','umpire1','umpire2','non_striker','fielder','venue'], axis=1)"
   ]
  },
  {
   "cell_type": "code",
   "execution_count": 14,
   "metadata": {},
   "outputs": [],
   "source": [
    "from patsy import dmatrices\n",
    "from sklearn.linear_model import LogisticRegression\n",
    "from sklearn import datasets\n",
    "from sklearn import metrics\n",
    "from statistics import mode\n",
    "from sklearn.model_selection import KFold\n",
    "from sklearn.model_selection import cross_val_score\n",
    "from sklearn.model_selection import cross_val_predict\n",
    "from datetime import datetime, date, timedelta\n",
    "from sklearn.model_selection import train_test_split"
   ]
  },
  {
   "cell_type": "code",
   "execution_count": 15,
   "metadata": {},
   "outputs": [],
   "source": [
    "#making a new column based on some conditions on existing column \n",
    "conditions = [\n",
    "    slim_rawdata['total_runs'] == 0,\n",
    "    (slim_rawdata['total_runs'] >= 1) & (slim_rawdata['total_runs'] <= 3),\n",
    "    slim_rawdata['total_runs'] > 4\n",
    "]\n",
    "\n",
    "categories = ['no', 'yes', 'boundery']"
   ]
  },
  {
   "cell_type": "code",
   "execution_count": 16,
   "metadata": {},
   "outputs": [],
   "source": [
    "slim_rawdata['Category'] = np.select(conditions, categories, default='Unknown')"
   ]
  },
  {
   "cell_type": "code",
   "execution_count": 17,
   "metadata": {},
   "outputs": [],
   "source": [
    "conditions = [\n",
    "    slim_rawdata['total_runs'] == 0,\n",
    "  \n",
    "    slim_rawdata['total_runs'] > 0\n",
    "]\n",
    "\n",
    "categories = [0, 1]"
   ]
  },
  {
   "cell_type": "code",
   "execution_count": 18,
   "metadata": {},
   "outputs": [],
   "source": [
    "slim_rawdata['run(y/n)'] = np.select(conditions, categories, default='Unknown').astype(float)"
   ]
  },
  {
   "cell_type": "code",
   "execution_count": 19,
   "metadata": {},
   "outputs": [],
   "source": [
    "# making a new data frame with only columns containing numbers\n",
    "num_rawdata = slim_rawdata.select_dtypes(include=[np.number])"
   ]
  },
  {
   "cell_type": "code",
   "execution_count": 20,
   "metadata": {},
   "outputs": [
    {
     "data": {
      "text/plain": [
       "Index(['id', 'result_margin', 'target_runs', 'target_overs', 'inning', 'over',\n",
       "       'ball', 'batsman_runs', 'extra_runs', 'total_runs', 'is_wicket', 'year',\n",
       "       'month', 'run(y/n)'],\n",
       "      dtype='object')"
      ]
     },
     "execution_count": 20,
     "metadata": {},
     "output_type": "execute_result"
    }
   ],
   "source": [
    "num_rawdata.columns"
   ]
  },
  {
   "cell_type": "code",
   "execution_count": 21,
   "metadata": {},
   "outputs": [
    {
     "name": "stdout",
     "output_type": "stream",
     "text": [
      "id                  0\n",
      "result_margin    4124\n",
      "target_runs       309\n",
      "target_overs      309\n",
      "inning              0\n",
      "over                0\n",
      "ball                0\n",
      "batsman_runs        0\n",
      "extra_runs          0\n",
      "total_runs          0\n",
      "is_wicket           0\n",
      "year                0\n",
      "month               0\n",
      "run(y/n)            0\n",
      "dtype: int64\n"
     ]
    }
   ],
   "source": [
    "# checking missing values\n",
    "missing = num_rawdata.isnull().sum()\n",
    "print(missing)"
   ]
  },
  {
   "cell_type": "code",
   "execution_count": 22,
   "metadata": {},
   "outputs": [
    {
     "name": "stdout",
     "output_type": "stream",
     "text": [
      "id               907066.506086\n",
      "result_margin        17.279451\n",
      "target_runs         167.290406\n",
      "target_overs         19.846742\n",
      "inning                1.483531\n",
      "over                  9.197677\n",
      "ball                  3.624486\n",
      "batsman_runs          1.265001\n",
      "extra_runs            0.067806\n",
      "total_runs            1.332807\n",
      "is_wicket             0.049632\n",
      "year               2016.161007\n",
      "month                 4.827208\n",
      "run(y/n)              0.653388\n",
      "dtype: float64\n",
      "id               367991.278255\n",
      "result_margin        21.428924\n",
      "target_runs          32.146891\n",
      "target_overs          1.223541\n",
      "inning                0.502643\n",
      "over                  5.683484\n",
      "ball                  1.814920\n",
      "batsman_runs          1.639298\n",
      "extra_runs            0.343265\n",
      "total_runs            1.626416\n",
      "is_wicket             0.217184\n",
      "year                  4.951596\n",
      "month                 1.619753\n",
      "run(y/n)              0.475892\n",
      "dtype: float64\n"
     ]
    }
   ],
   "source": [
    "# filling missing value with mean \n",
    "num_rawdata.fillna(num_rawdata.mean(), inplace=True)\n",
    "\n",
    "print(num_rawdata.mean())\n",
    "print(num_rawdata.std())\n"
   ]
  },
  {
   "cell_type": "code",
   "execution_count": 23,
   "metadata": {},
   "outputs": [
    {
     "data": {
      "text/html": [
       "<div>\n",
       "<style scoped>\n",
       "    .dataframe tbody tr th:only-of-type {\n",
       "        vertical-align: middle;\n",
       "    }\n",
       "\n",
       "    .dataframe tbody tr th {\n",
       "        vertical-align: top;\n",
       "    }\n",
       "\n",
       "    .dataframe thead th {\n",
       "        text-align: right;\n",
       "    }\n",
       "</style>\n",
       "<table border=\"1\" class=\"dataframe\">\n",
       "  <thead>\n",
       "    <tr style=\"text-align: right;\">\n",
       "      <th></th>\n",
       "      <th>id</th>\n",
       "      <th>result_margin</th>\n",
       "      <th>target_runs</th>\n",
       "      <th>target_overs</th>\n",
       "      <th>inning</th>\n",
       "      <th>over</th>\n",
       "      <th>ball</th>\n",
       "      <th>batsman_runs</th>\n",
       "      <th>extra_runs</th>\n",
       "      <th>total_runs</th>\n",
       "      <th>is_wicket</th>\n",
       "      <th>year</th>\n",
       "      <th>month</th>\n",
       "      <th>run(y/n)</th>\n",
       "    </tr>\n",
       "  </thead>\n",
       "  <tbody>\n",
       "    <tr>\n",
       "      <th>0</th>\n",
       "      <td>335982</td>\n",
       "      <td>140.0</td>\n",
       "      <td>223.0</td>\n",
       "      <td>20.0</td>\n",
       "      <td>1</td>\n",
       "      <td>0</td>\n",
       "      <td>1</td>\n",
       "      <td>0</td>\n",
       "      <td>1</td>\n",
       "      <td>1</td>\n",
       "      <td>0</td>\n",
       "      <td>2008</td>\n",
       "      <td>4</td>\n",
       "      <td>1.0</td>\n",
       "    </tr>\n",
       "    <tr>\n",
       "      <th>1</th>\n",
       "      <td>335982</td>\n",
       "      <td>140.0</td>\n",
       "      <td>223.0</td>\n",
       "      <td>20.0</td>\n",
       "      <td>1</td>\n",
       "      <td>0</td>\n",
       "      <td>2</td>\n",
       "      <td>0</td>\n",
       "      <td>0</td>\n",
       "      <td>0</td>\n",
       "      <td>0</td>\n",
       "      <td>2008</td>\n",
       "      <td>4</td>\n",
       "      <td>0.0</td>\n",
       "    </tr>\n",
       "  </tbody>\n",
       "</table>\n",
       "</div>"
      ],
      "text/plain": [
       "       id  result_margin  target_runs  target_overs  inning  over  ball  \\\n",
       "0  335982          140.0        223.0          20.0       1     0     1   \n",
       "1  335982          140.0        223.0          20.0       1     0     2   \n",
       "\n",
       "   batsman_runs  extra_runs  total_runs  is_wicket  year  month  run(y/n)  \n",
       "0             0           1           1          0  2008      4       1.0  \n",
       "1             0           0           0          0  2008      4       0.0  "
      ]
     },
     "execution_count": 23,
     "metadata": {},
     "output_type": "execute_result"
    }
   ],
   "source": [
    "num_rawdata.head(2)"
   ]
  },
  {
   "cell_type": "code",
   "execution_count": 24,
   "metadata": {},
   "outputs": [],
   "source": [
    "X = num_rawdata[['result_margin','target_runs','ball']]\n",
    "y = num_rawdata['run(y/n)']"
   ]
  },
  {
   "cell_type": "code",
   "execution_count": 25,
   "metadata": {},
   "outputs": [],
   "source": [
    "model = LogisticRegression()\n"
   ]
  },
  {
   "cell_type": "code",
   "execution_count": 26,
   "metadata": {},
   "outputs": [],
   "source": [
    "X_train, X_test, y_train, y_test = train_test_split(X, y, test_size=0.25, random_state=40)"
   ]
  },
  {
   "cell_type": "code",
   "execution_count": 27,
   "metadata": {},
   "outputs": [],
   "source": [
    "logreg = model.fit(X_train, y_train)\n"
   ]
  },
  {
   "cell_type": "code",
   "execution_count": 28,
   "metadata": {},
   "outputs": [
    {
     "data": {
      "text/plain": [
       "array([1., 1., 1., ..., 1., 1., 1.])"
      ]
     },
     "execution_count": 28,
     "metadata": {},
     "output_type": "execute_result"
    }
   ],
   "source": [
    "logreg.predict(X_test)"
   ]
  },
  {
   "cell_type": "code",
   "execution_count": 29,
   "metadata": {},
   "outputs": [
    {
     "data": {
      "text/plain": [
       "array([[0.37356816, 0.62643184],\n",
       "       [0.38879317, 0.61120683],\n",
       "       [0.37062747, 0.62937253],\n",
       "       ...,\n",
       "       [0.34003962, 0.65996038],\n",
       "       [0.35244853, 0.64755147],\n",
       "       [0.34185143, 0.65814857]])"
      ]
     },
     "execution_count": 29,
     "metadata": {},
     "output_type": "execute_result"
    }
   ],
   "source": [
    "logreg.predict_proba(X_test)"
   ]
  },
  {
   "cell_type": "code",
   "execution_count": 30,
   "metadata": {},
   "outputs": [],
   "source": [
    "# checking roc curve \n",
    "import matplotlib.pyplot as plt\n",
    "\n",
    "from sklearn.metrics import roc_curve, auc"
   ]
  },
  {
   "cell_type": "code",
   "execution_count": 31,
   "metadata": {},
   "outputs": [],
   "source": [
    "y_pred_proba = model.predict_proba(X_test)[:, 1]"
   ]
  },
  {
   "cell_type": "code",
   "execution_count": 32,
   "metadata": {},
   "outputs": [],
   "source": [
    "fpr, tpr, thresholds = roc_curve(y_test, y_pred_proba) \n"
   ]
  },
  {
   "cell_type": "code",
   "execution_count": 33,
   "metadata": {},
   "outputs": [],
   "source": [
    "roc_auc = auc(fpr, tpr)"
   ]
  },
  {
   "cell_type": "code",
   "execution_count": 34,
   "metadata": {},
   "outputs": [
    {
     "data": {
      "image/png": "[encoded data removed]",
      "text/plain": [
       "<Figure size 640x480 with 1 Axes>"
      ]
     },
     "metadata": {},
     "output_type": "display_data"
    }
   ],
   "source": [
    "plt.figure()  \n",
    "plt.plot(fpr, tpr, label='ROC curve (area = %0.2f)' % roc_auc)\n",
    "plt.plot([0, 1], [0, 1], 'k--', label='No Skill')\n",
    "plt.xlim([0.0, 1.0])\n",
    "plt.ylim([0.0, 1.5])\n",
    "plt.xlabel('False Positive Rate')\n",
    "plt.ylabel('True Positive Rate')\n",
    "plt.title('ROC Curve for run')\n",
    "plt.legend()\n",
    "plt.show()"
   ]
  },
  {
   "cell_type": "markdown",
   "metadata": {},
   "source": [
    "### using another method for model "
   ]
  },
  {
   "cell_type": "code",
   "execution_count": 35,
   "metadata": {},
   "outputs": [],
   "source": [
    "import sklearn\n",
    "from sklearn.metrics import confusion_matrix, classification_report\n",
    "from sklearn.metrics import accuracy_score"
   ]
  },
  {
   "cell_type": "code",
   "execution_count": null,
   "metadata": {},
   "outputs": [],
   "source": [
    "clf = LogisticRegression(penalty = 'l2', C = 1)\n"
   ]
  },
  {
   "cell_type": "code",
   "execution_count": 37,
   "metadata": {},
   "outputs": [
    {
     "data": {
      "text/html": [
       "<style>#sk-container-id-1 {\n",
       "  /* Definition of color scheme common for light and dark mode */\n",
       "  --sklearn-color-text: black;\n",
       "  --sklearn-color-line: gray;\n",
       "  /* Definition of color scheme for unfitted estimators */\n",
       "  --sklearn-color-unfitted-level-0: #fff5e6;\n",
       "  --sklearn-color-unfitted-level-1: #f6e4d2;\n",
       "  --sklearn-color-unfitted-level-2: #ffe0b3;\n",
       "  --sklearn-color-unfitted-level-3: chocolate;\n",
       "  /* Definition of color scheme for fitted estimators */\n",
       "  --sklearn-color-fitted-level-0: #f0f8ff;\n",
       "  --sklearn-color-fitted-level-1: #d4ebff;\n",
       "  --sklearn-color-fitted-level-2: #b3dbfd;\n",
       "  --sklearn-color-fitted-level-3: cornflowerblue;\n",
       "\n",
       "  /* Specific color for light theme */\n",
       "  --sklearn-color-text-on-default-background: var(--sg-text-color, var(--theme-code-foreground, var(--jp-content-font-color1, black)));\n",
       "  --sklearn-color-background: var(--sg-background-color, var(--theme-background, var(--jp-layout-color0, white)));\n",
       "  --sklearn-color-border-box: var(--sg-text-color, var(--theme-code-foreground, var(--jp-content-font-color1, black)));\n",
       "  --sklearn-color-icon: #696969;\n",
       "\n",
       "  @media (prefers-color-scheme: dark) {\n",
       "    /* Redefinition of color scheme for dark theme */\n",
       "    --sklearn-color-text-on-default-background: var(--sg-text-color, var(--theme-code-foreground, var(--jp-content-font-color1, white)));\n",
       "    --sklearn-color-background: var(--sg-background-color, var(--theme-background, var(--jp-layout-color0, #111)));\n",
       "    --sklearn-color-border-box: var(--sg-text-color, var(--theme-code-foreground, var(--jp-content-font-color1, white)));\n",
       "    --sklearn-color-icon: #878787;\n",
       "  }\n",
       "}\n",
       "\n",
       "#sk-container-id-1 {\n",
       "  color: var(--sklearn-color-text);\n",
       "}\n",
       "\n",
       "#sk-container-id-1 pre {\n",
       "  padding: 0;\n",
       "}\n",
       "\n",
       "#sk-container-id-1 input.sk-hidden--visually {\n",
       "  border: 0;\n",
       "  clip: rect(1px 1px 1px 1px);\n",
       "  clip: rect(1px, 1px, 1px, 1px);\n",
       "  height: 1px;\n",
       "  margin: -1px;\n",
       "  overflow: hidden;\n",
       "  padding: 0;\n",
       "  position: absolute;\n",
       "  width: 1px;\n",
       "}\n",
       "\n",
       "#sk-container-id-1 div.sk-dashed-wrapped {\n",
       "  border: 1px dashed var(--sklearn-color-line);\n",
       "  margin: 0 0.4em 0.5em 0.4em;\n",
       "  box-sizing: border-box;\n",
       "  padding-bottom: 0.4em;\n",
       "  background-color: var(--sklearn-color-background);\n",
       "}\n",
       "\n",
       "#sk-container-id-1 div.sk-container {\n",
       "  /* jupyter's `normalize.less` sets `[hidden] { display: none; }`\n",
       "     but bootstrap.min.css set `[hidden] { display: none !important; }`\n",
       "     so we also need the `!important` here to be able to override the\n",
       "     default hidden behavior on the sphinx rendered scikit-learn.org.\n",
       "     See: https://github.com/scikit-learn/scikit-learn/issues/21755 */\n",
       "  display: inline-block !important;\n",
       "  position: relative;\n",
       "}\n",
       "\n",
       "#sk-container-id-1 div.sk-text-repr-fallback {\n",
       "  display: none;\n",
       "}\n",
       "\n",
       "div.sk-parallel-item,\n",
       "div.sk-serial,\n",
       "div.sk-item {\n",
       "  /* draw centered vertical line to link estimators */\n",
       "  background-image: linear-gradient(var(--sklearn-color-text-on-default-background), var(--sklearn-color-text-on-default-background));\n",
       "  background-size: 2px 100%;\n",
       "  background-repeat: no-repeat;\n",
       "  background-position: center center;\n",
       "}\n",
       "\n",
       "/* Parallel-specific style estimator block */\n",
       "\n",
       "#sk-container-id-1 div.sk-parallel-item::after {\n",
       "  content: \"\";\n",
       "  width: 100%;\n",
       "  border-bottom: 2px solid var(--sklearn-color-text-on-default-background);\n",
       "  flex-grow: 1;\n",
       "}\n",
       "\n",
       "#sk-container-id-1 div.sk-parallel {\n",
       "  display: flex;\n",
       "  align-items: stretch;\n",
       "  justify-content: center;\n",
       "  background-color: var(--sklearn-color-background);\n",
       "  position: relative;\n",
       "}\n",
       "\n",
       "#sk-container-id-1 div.sk-parallel-item {\n",
       "  display: flex;\n",
       "  flex-direction: column;\n",
       "}\n",
       "\n",
       "#sk-container-id-1 div.sk-parallel-item:first-child::after {\n",
       "  align-self: flex-end;\n",
       "  width: 50%;\n",
       "}\n",
       "\n",
       "#sk-container-id-1 div.sk-parallel-item:last-child::after {\n",
       "  align-self: flex-start;\n",
       "  width: 50%;\n",
       "}\n",
       "\n",
       "#sk-container-id-1 div.sk-parallel-item:only-child::after {\n",
       "  width: 0;\n",
       "}\n",
       "\n",
       "/* Serial-specific style estimator block */\n",
       "\n",
       "#sk-container-id-1 div.sk-serial {\n",
       "  display: flex;\n",
       "  flex-direction: column;\n",
       "  align-items: center;\n",
       "  background-color: var(--sklearn-color-background);\n",
       "  padding-right: 1em;\n",
       "  padding-left: 1em;\n",
       "}\n",
       "\n",
       "\n",
       "/* Toggleable style: style used for estimator/Pipeline/ColumnTransformer box that is\n",
       "clickable and can be expanded/collapsed.\n",
       "- Pipeline and ColumnTransformer use this feature and define the default style\n",
       "- Estimators will overwrite some part of the style using the `sk-estimator` class\n",
       "*/\n",
       "\n",
       "/* Pipeline and ColumnTransformer style (default) */\n",
       "\n",
       "#sk-container-id-1 div.sk-toggleable {\n",
       "  /* Default theme specific background. It is overwritten whether we have a\n",
       "  specific estimator or a Pipeline/ColumnTransformer */\n",
       "  background-color: var(--sklearn-color-background);\n",
       "}\n",
       "\n",
       "/* Toggleable label */\n",
       "#sk-container-id-1 label.sk-toggleable__label {\n",
       "  cursor: pointer;\n",
       "  display: block;\n",
       "  width: 100%;\n",
       "  margin-bottom: 0;\n",
       "  padding: 0.5em;\n",
       "  box-sizing: border-box;\n",
       "  text-align: center;\n",
       "}\n",
       "\n",
       "#sk-container-id-1 label.sk-toggleable__label-arrow:before {\n",
       "  /* Arrow on the left of the label */\n",
       "  content: \"▸\";\n",
       "  float: left;\n",
       "  margin-right: 0.25em;\n",
       "  color: var(--sklearn-color-icon);\n",
       "}\n",
       "\n",
       "#sk-container-id-1 label.sk-toggleable__label-arrow:hover:before {\n",
       "  color: var(--sklearn-color-text);\n",
       "}\n",
       "\n",
       "/* Toggleable content - dropdown */\n",
       "\n",
       "#sk-container-id-1 div.sk-toggleable__content {\n",
       "  max-height: 0;\n",
       "  max-width: 0;\n",
       "  overflow: hidden;\n",
       "  text-align: left;\n",
       "  /* unfitted */\n",
       "  background-color: var(--sklearn-color-unfitted-level-0);\n",
       "}\n",
       "\n",
       "#sk-container-id-1 div.sk-toggleable__content.fitted {\n",
       "  /* fitted */\n",
       "  background-color: var(--sklearn-color-fitted-level-0);\n",
       "}\n",
       "\n",
       "#sk-container-id-1 div.sk-toggleable__content pre {\n",
       "  margin: 0.2em;\n",
       "  border-radius: 0.25em;\n",
       "  color: var(--sklearn-color-text);\n",
       "  /* unfitted */\n",
       "  background-color: var(--sklearn-color-unfitted-level-0);\n",
       "}\n",
       "\n",
       "#sk-container-id-1 div.sk-toggleable__content.fitted pre {\n",
       "  /* unfitted */\n",
       "  background-color: var(--sklearn-color-fitted-level-0);\n",
       "}\n",
       "\n",
       "#sk-container-id-1 input.sk-toggleable__control:checked~div.sk-toggleable__content {\n",
       "  /* Expand drop-down */\n",
       "  max-height: 200px;\n",
       "  max-width: 100%;\n",
       "  overflow: auto;\n",
       "}\n",
       "\n",
       "#sk-container-id-1 input.sk-toggleable__control:checked~label.sk-toggleable__label-arrow:before {\n",
       "  content: \"▾\";\n",
       "}\n",
       "\n",
       "/* Pipeline/ColumnTransformer-specific style */\n",
       "\n",
       "#sk-container-id-1 div.sk-label input.sk-toggleable__control:checked~label.sk-toggleable__label {\n",
       "  color: var(--sklearn-color-text);\n",
       "  background-color: var(--sklearn-color-unfitted-level-2);\n",
       "}\n",
       "\n",
       "#sk-container-id-1 div.sk-label.fitted input.sk-toggleable__control:checked~label.sk-toggleable__label {\n",
       "  background-color: var(--sklearn-color-fitted-level-2);\n",
       "}\n",
       "\n",
       "/* Estimator-specific style */\n",
       "\n",
       "/* Colorize estimator box */\n",
       "#sk-container-id-1 div.sk-estimator input.sk-toggleable__control:checked~label.sk-toggleable__label {\n",
       "  /* unfitted */\n",
       "  background-color: var(--sklearn-color-unfitted-level-2);\n",
       "}\n",
       "\n",
       "#sk-container-id-1 div.sk-estimator.fitted input.sk-toggleable__control:checked~label.sk-toggleable__label {\n",
       "  /* fitted */\n",
       "  background-color: var(--sklearn-color-fitted-level-2);\n",
       "}\n",
       "\n",
       "#sk-container-id-1 div.sk-label label.sk-toggleable__label,\n",
       "#sk-container-id-1 div.sk-label label {\n",
       "  /* The background is the default theme color */\n",
       "  color: var(--sklearn-color-text-on-default-background);\n",
       "}\n",
       "\n",
       "/* On hover, darken the color of the background */\n",
       "#sk-container-id-1 div.sk-label:hover label.sk-toggleable__label {\n",
       "  color: var(--sklearn-color-text);\n",
       "  background-color: var(--sklearn-color-unfitted-level-2);\n",
       "}\n",
       "\n",
       "/* Label box, darken color on hover, fitted */\n",
       "#sk-container-id-1 div.sk-label.fitted:hover label.sk-toggleable__label.fitted {\n",
       "  color: var(--sklearn-color-text);\n",
       "  background-color: var(--sklearn-color-fitted-level-2);\n",
       "}\n",
       "\n",
       "/* Estimator label */\n",
       "\n",
       "#sk-container-id-1 div.sk-label label {\n",
       "  font-family: monospace;\n",
       "  font-weight: bold;\n",
       "  display: inline-block;\n",
       "  line-height: 1.2em;\n",
       "}\n",
       "\n",
       "#sk-container-id-1 div.sk-label-container {\n",
       "  text-align: center;\n",
       "}\n",
       "\n",
       "/* Estimator-specific */\n",
       "#sk-container-id-1 div.sk-estimator {\n",
       "  font-family: monospace;\n",
       "  border: 1px dotted var(--sklearn-color-border-box);\n",
       "  border-radius: 0.25em;\n",
       "  box-sizing: border-box;\n",
       "  margin-bottom: 0.5em;\n",
       "  /* unfitted */\n",
       "  background-color: var(--sklearn-color-unfitted-level-0);\n",
       "}\n",
       "\n",
       "#sk-container-id-1 div.sk-estimator.fitted {\n",
       "  /* fitted */\n",
       "  background-color: var(--sklearn-color-fitted-level-0);\n",
       "}\n",
       "\n",
       "/* on hover */\n",
       "#sk-container-id-1 div.sk-estimator:hover {\n",
       "  /* unfitted */\n",
       "  background-color: var(--sklearn-color-unfitted-level-2);\n",
       "}\n",
       "\n",
       "#sk-container-id-1 div.sk-estimator.fitted:hover {\n",
       "  /* fitted */\n",
       "  background-color: var(--sklearn-color-fitted-level-2);\n",
       "}\n",
       "\n",
       "/* Specification for estimator info (e.g. \"i\" and \"?\") */\n",
       "\n",
       "/* Common style for \"i\" and \"?\" */\n",
       "\n",
       ".sk-estimator-doc-link,\n",
       "a:link.sk-estimator-doc-link,\n",
       "a:visited.sk-estimator-doc-link {\n",
       "  float: right;\n",
       "  font-size: smaller;\n",
       "  line-height: 1em;\n",
       "  font-family: monospace;\n",
       "  background-color: var(--sklearn-color-background);\n",
       "  border-radius: 1em;\n",
       "  height: 1em;\n",
       "  width: 1em;\n",
       "  text-decoration: none !important;\n",
       "  margin-left: 1ex;\n",
       "  /* unfitted */\n",
       "  border: var(--sklearn-color-unfitted-level-1) 1pt solid;\n",
       "  color: var(--sklearn-color-unfitted-level-1);\n",
       "}\n",
       "\n",
       ".sk-estimator-doc-link.fitted,\n",
       "a:link.sk-estimator-doc-link.fitted,\n",
       "a:visited.sk-estimator-doc-link.fitted {\n",
       "  /* fitted */\n",
       "  border: var(--sklearn-color-fitted-level-1) 1pt solid;\n",
       "  color: var(--sklearn-color-fitted-level-1);\n",
       "}\n",
       "\n",
       "/* On hover */\n",
       "div.sk-estimator:hover .sk-estimator-doc-link:hover,\n",
       ".sk-estimator-doc-link:hover,\n",
       "div.sk-label-container:hover .sk-estimator-doc-link:hover,\n",
       ".sk-estimator-doc-link:hover {\n",
       "  /* unfitted */\n",
       "  background-color: var(--sklearn-color-unfitted-level-3);\n",
       "  color: var(--sklearn-color-background);\n",
       "  text-decoration: none;\n",
       "}\n",
       "\n",
       "div.sk-estimator.fitted:hover .sk-estimator-doc-link.fitted:hover,\n",
       ".sk-estimator-doc-link.fitted:hover,\n",
       "div.sk-label-container:hover .sk-estimator-doc-link.fitted:hover,\n",
       ".sk-estimator-doc-link.fitted:hover {\n",
       "  /* fitted */\n",
       "  background-color: var(--sklearn-color-fitted-level-3);\n",
       "  color: var(--sklearn-color-background);\n",
       "  text-decoration: none;\n",
       "}\n",
       "\n",
       "/* Span, style for the box shown on hovering the info icon */\n",
       ".sk-estimator-doc-link span {\n",
       "  display: none;\n",
       "  z-index: 9999;\n",
       "  position: relative;\n",
       "  font-weight: normal;\n",
       "  right: .2ex;\n",
       "  padding: .5ex;\n",
       "  margin: .5ex;\n",
       "  width: min-content;\n",
       "  min-width: 20ex;\n",
       "  max-width: 50ex;\n",
       "  color: var(--sklearn-color-text);\n",
       "  box-shadow: 2pt 2pt 4pt #999;\n",
       "  /* unfitted */\n",
       "  background: var(--sklearn-color-unfitted-level-0);\n",
       "  border: .5pt solid var(--sklearn-color-unfitted-level-3);\n",
       "}\n",
       "\n",
       ".sk-estimator-doc-link.fitted span {\n",
       "  /* fitted */\n",
       "  background: var(--sklearn-color-fitted-level-0);\n",
       "  border: var(--sklearn-color-fitted-level-3);\n",
       "}\n",
       "\n",
       ".sk-estimator-doc-link:hover span {\n",
       "  display: block;\n",
       "}\n",
       "\n",
       "/* \"?\"-specific style due to the `<a>` HTML tag */\n",
       "\n",
       "#sk-container-id-1 a.estimator_doc_link {\n",
       "  float: right;\n",
       "  font-size: 1rem;\n",
       "  line-height: 1em;\n",
       "  font-family: monospace;\n",
       "  background-color: var(--sklearn-color-background);\n",
       "  border-radius: 1rem;\n",
       "  height: 1rem;\n",
       "  width: 1rem;\n",
       "  text-decoration: none;\n",
       "  /* unfitted */\n",
       "  color: var(--sklearn-color-unfitted-level-1);\n",
       "  border: var(--sklearn-color-unfitted-level-1) 1pt solid;\n",
       "}\n",
       "\n",
       "#sk-container-id-1 a.estimator_doc_link.fitted {\n",
       "  /* fitted */\n",
       "  border: var(--sklearn-color-fitted-level-1) 1pt solid;\n",
       "  color: var(--sklearn-color-fitted-level-1);\n",
       "}\n",
       "\n",
       "/* On hover */\n",
       "#sk-container-id-1 a.estimator_doc_link:hover {\n",
       "  /* unfitted */\n",
       "  background-color: var(--sklearn-color-unfitted-level-3);\n",
       "  color: var(--sklearn-color-background);\n",
       "  text-decoration: none;\n",
       "}\n",
       "\n",
       "#sk-container-id-1 a.estimator_doc_link.fitted:hover {\n",
       "  /* fitted */\n",
       "  background-color: var(--sklearn-color-fitted-level-3);\n",
       "}\n",
       "</style><div id=\"sk-container-id-1\" class=\"sk-top-container\"><div class=\"sk-text-repr-fallback\"><pre>LogisticRegression(C=1)</pre><b>In a Jupyter environment, please rerun this cell to show the HTML representation or trust the notebook. <br />On GitHub, the HTML representation is unable to render, please try loading this page with nbviewer.org.</b></div><div class=\"sk-container\" hidden><div class=\"sk-item\"><div class=\"sk-estimator fitted sk-toggleable\"><input class=\"sk-toggleable__control sk-hidden--visually\" id=\"sk-estimator-id-1\" type=\"checkbox\" checked><label for=\"sk-estimator-id-1\" class=\"sk-toggleable__label fitted sk-toggleable__label-arrow fitted\">&nbsp;&nbsp;LogisticRegression<a class=\"sk-estimator-doc-link fitted\" rel=\"noreferrer\" target=\"_blank\" href=\"https://scikit-learn.org/1.5/modules/generated/sklearn.linear_model.LogisticRegression.html\">?<span>Documentation for LogisticRegression</span></a><span class=\"sk-estimator-doc-link fitted\">i<span>Fitted</span></span></label><div class=\"sk-toggleable__content fitted\"><pre>LogisticRegression(C=1)</pre></div> </div></div></div></div>"
      ],
      "text/plain": [
       "LogisticRegression(C=1)"
      ]
     },
     "execution_count": 37,
     "metadata": {},
     "output_type": "execute_result"
    }
   ],
   "source": [
    "clf.fit(X_train,y_train)\n"
   ]
  },
  {
   "cell_type": "code",
   "execution_count": 38,
   "metadata": {},
   "outputs": [
    {
     "name": "stdout",
     "output_type": "stream",
     "text": [
      "Training Accuracy - : 0.6523685420818641\n",
      "Testing Accuracy - : 0.652230568756707\n"
     ]
    }
   ],
   "source": [
    "pred = clf.predict(X_test)\n",
    "print (f'Training Accuracy - : {clf.score(X_train,y_train)}')\n",
    "print (f'Testing Accuracy - : {clf.score(X_test,y_test)}')"
   ]
  },
  {
   "cell_type": "code",
   "execution_count": 39,
   "metadata": {},
   "outputs": [],
   "source": [
    "cm_with_C_1 = confusion_matrix(pred, y_test)\n"
   ]
  },
  {
   "cell_type": "code",
   "execution_count": 67,
   "metadata": {},
   "outputs": [
    {
     "data": {
      "image/png": "[encoded data removed]",
      "text/plain": [
       "<Figure size 640x480 with 2 Axes>"
      ]
     },
     "metadata": {},
     "output_type": "display_data"
    }
   ],
   "source": [
    "# confusion matrix \n",
    "import seaborn as sns\n",
    "\n",
    "sns.heatmap(cm_with_C_1,\n",
    "            annot=True,\n",
    "            fmt='g',\n",
    "            xticklabels=['1', '0'],  # metastatic = 1, benign = 0\n",
    "            yticklabels=['1', '0'])\n",
    "plt.ylabel('Prediction', fontsize=13)\n",
    "plt.xlabel('Actual', fontsize=13)\n",
    "plt.title('Confusion Matrix', fontsize=17)\n",
    "plt.show()"
   ]
  },
  {
   "cell_type": "code",
   "execution_count": null,
   "metadata": {},
   "outputs": [],
   "source": [
    "# tp = true positive , fp = false positive, fn = false negative , tn = true negative\n",
    "tp = cm_with_C_1[0][0]\n",
    "fp = cm_with_C_1[0][1]\n",
    "fn = cm_with_C_1[1][0]\n",
    "tn = cm_with_C_1[1][1]\n"
   ]
  },
  {
   "cell_type": "code",
   "execution_count": null,
   "metadata": {},
   "outputs": [
    {
     "name": "stdout",
     "output_type": "stream",
     "text": [
      "Accuracy: 0.652230568756707\n",
      "Precision: 0.36065573770491804\n",
      "Recall: 0.0048672566371681415\n",
      "F1 Score: 0.009604889762060686\n"
     ]
    }
   ],
   "source": [
    "# accuracy = proportion of correct predictions,precision =  correctly predict the positive class\n",
    "accuracy = (tp + tn) / np.sum(cm_with_C_1)\n",
    "precision = tp / (tp + fp)\n",
    "recall = tp / (tp + fn)\n",
    "f1 = 2 * (precision * recall) / (precision + recall)\n",
    "\n",
    "# Print the results\n",
    "print(\"Accuracy:\", accuracy)\n",
    "print(\"Precision:\", precision)\n",
    "print(\"Recall:\", recall)\n",
    "print(\"F1 Score:\", f1)"
   ]
  },
  {
   "cell_type": "code",
   "execution_count": 43,
   "metadata": {},
   "outputs": [],
   "source": [
    "# Using Brute Force Method to identify best value for  C\n",
    " \n",
    "c = np.arange(10,25,0.25)\n",
    "train_acc = []\n",
    "test_acc = []\n",
    "for i in c:\n",
    "    clf = LogisticRegression(penalty = 'l2', C = i)\n",
    "    \n",
    "    clf.fit(X_train,y_train)\n",
    "    pred = clf.predict(X_test)\n",
    "    train_acc.append(clf.score(X_train,y_train))\n",
    "    test_acc.append(accuracy_score(pred, y_test))"
   ]
  },
  {
   "cell_type": "code",
   "execution_count": 68,
   "metadata": {},
   "outputs": [
    {
     "data": {
      "image/png": "[encoded data removed]",
      "text/plain": [
       "<Figure size 600x200 with 1 Axes>"
      ]
     },
     "metadata": {},
     "output_type": "display_data"
    },
    {
     "name": "stdout",
     "output_type": "stream",
     "text": [
      "The minimum difference in training and testing scores is at C =  10.0\n"
     ]
    }
   ],
   "source": [
    "# lot for accuracy of training and testing data \n",
    "plt.figure(figsize=(6,2))\n",
    "plt.plot(c,train_acc, marker = 'o', color = 'b',label='training_accuracy')      \n",
    "plt.plot(c,test_acc, marker = 'o', color = 'r',label='testing_accuracy')\n",
    "plt.xlabel('c_parameter')\n",
    "plt.ylabel('Accuracy')\n",
    "plt.legend()\n",
    "plt.show()\n",
    "\n",
    "diff = np.array(train_acc) - np.array(test_acc)\n",
    "min_idx = np.argmin(diff)\n",
    "print(\"The minimum difference in training and testing scores is at C = \",c[min_idx])"
   ]
  },
  {
   "cell_type": "code",
   "execution_count": 45,
   "metadata": {},
   "outputs": [],
   "source": [
    "youden_index = tpr - fpr\n",
    "\n"
   ]
  },
  {
   "cell_type": "code",
   "execution_count": 46,
   "metadata": {},
   "outputs": [],
   "source": [
    "# Find the index of the maximum Youden's Index\n",
    "best_index = np.argmax(youden_index)\n",
    "\n"
   ]
  },
  {
   "cell_type": "code",
   "execution_count": 47,
   "metadata": {},
   "outputs": [
    {
     "name": "stdout",
     "output_type": "stream",
     "text": [
      "Optimal cutoff threshold (Youden's Index): 0.6573574320415148\n"
     ]
    }
   ],
   "source": [
    "# Get the optimal threshold\n",
    "optimal_threshold = thresholds[best_index]\n",
    "\n",
    "# Print the optimal threshold\n",
    "print(\"Optimal cutoff threshold (Youden's Index):\", optimal_threshold)"
   ]
  },
  {
   "cell_type": "code",
   "execution_count": 48,
   "metadata": {},
   "outputs": [],
   "source": [
    "from sklearn.metrics import f1_score\n",
    "\n",
    "# Calculate F1 score for each threshold\n",
    "f1_scores = [f1_score(y_test, y_pred_proba > t) for t in thresholds]\n",
    "\n"
   ]
  },
  {
   "cell_type": "code",
   "execution_count": 49,
   "metadata": {},
   "outputs": [],
   "source": [
    "# Find the index of the maximum F1 score\n",
    "best_f1_index = np.argmax(f1_scores)\n"
   ]
  },
  {
   "cell_type": "code",
   "execution_count": 50,
   "metadata": {},
   "outputs": [
    {
     "name": "stdout",
     "output_type": "stream",
     "text": [
      "Optimal threshold for F1 score: 0.4662791739762409\n"
     ]
    }
   ],
   "source": [
    "# Get the optimal threshold for F1 score\n",
    "optimal_f1_threshold = thresholds[best_f1_index]\n",
    "\n",
    "print(\"Optimal threshold for F1 score:\", optimal_f1_threshold)"
   ]
  },
  {
   "cell_type": "markdown",
   "metadata": {},
   "source": [
    "Another method to find cut off value "
   ]
  },
  {
   "cell_type": "code",
   "execution_count": 57,
   "metadata": {},
   "outputs": [],
   "source": [
    "from sklearn.metrics import accuracy_score, precision_score, recall_score, f1_score, roc_auc_score\n",
    "\n",
    "cutoff_values = np.arange(0.0, 1.0, 0.01)\n"
   ]
  },
  {
   "cell_type": "code",
   "execution_count": 54,
   "metadata": {},
   "outputs": [],
   "source": [
    "y_probs = model.predict_proba(X_test)[:, 1]"
   ]
  },
  {
   "cell_type": "code",
   "execution_count": 55,
   "metadata": {},
   "outputs": [],
   "source": [
    "# Define the range of possible cutoffs\n",
    "cutoffs = np.arange(0.0, 1.0, 0.01)\n",
    "accuracies = []\n",
    "precisions = []\n",
    "recalls = []\n",
    "f1_scores = []\n",
    "auc_scores = []"
   ]
  },
  {
   "cell_type": "code",
   "execution_count": 60,
   "metadata": {},
   "outputs": [
    {
     "name": "stderr",
     "output_type": "stream",
     "text": [
      "c:\\Users\\HP\\anaconda3\\Lib\\site-packages\\sklearn\\metrics\\_classification.py:1531: UndefinedMetricWarning: Precision is ill-defined and being set to 0.0 due to no predicted samples. Use `zero_division` parameter to control this behavior.\n",
      "  _warn_prf(average, modifier, f\"{metric.capitalize()} is\", len(result))\n",
      "c:\\Users\\HP\\anaconda3\\Lib\\site-packages\\sklearn\\metrics\\_classification.py:1531: UndefinedMetricWarning: Precision is ill-defined and being set to 0.0 due to no predicted samples. Use `zero_division` parameter to control this behavior.\n",
      "  _warn_prf(average, modifier, f\"{metric.capitalize()} is\", len(result))\n",
      "c:\\Users\\HP\\anaconda3\\Lib\\site-packages\\sklearn\\metrics\\_classification.py:1531: UndefinedMetricWarning: Precision is ill-defined and being set to 0.0 due to no predicted samples. Use `zero_division` parameter to control this behavior.\n",
      "  _warn_prf(average, modifier, f\"{metric.capitalize()} is\", len(result))\n",
      "c:\\Users\\HP\\anaconda3\\Lib\\site-packages\\sklearn\\metrics\\_classification.py:1531: UndefinedMetricWarning: Precision is ill-defined and being set to 0.0 due to no predicted samples. Use `zero_division` parameter to control this behavior.\n",
      "  _warn_prf(average, modifier, f\"{metric.capitalize()} is\", len(result))\n",
      "c:\\Users\\HP\\anaconda3\\Lib\\site-packages\\sklearn\\metrics\\_classification.py:1531: UndefinedMetricWarning: Precision is ill-defined and being set to 0.0 due to no predicted samples. Use `zero_division` parameter to control this behavior.\n",
      "  _warn_prf(average, modifier, f\"{metric.capitalize()} is\", len(result))\n",
      "c:\\Users\\HP\\anaconda3\\Lib\\site-packages\\sklearn\\metrics\\_classification.py:1531: UndefinedMetricWarning: Precision is ill-defined and being set to 0.0 due to no predicted samples. Use `zero_division` parameter to control this behavior.\n",
      "  _warn_prf(average, modifier, f\"{metric.capitalize()} is\", len(result))\n",
      "c:\\Users\\HP\\anaconda3\\Lib\\site-packages\\sklearn\\metrics\\_classification.py:1531: UndefinedMetricWarning: Precision is ill-defined and being set to 0.0 due to no predicted samples. Use `zero_division` parameter to control this behavior.\n",
      "  _warn_prf(average, modifier, f\"{metric.capitalize()} is\", len(result))\n",
      "c:\\Users\\HP\\anaconda3\\Lib\\site-packages\\sklearn\\metrics\\_classification.py:1531: UndefinedMetricWarning: Precision is ill-defined and being set to 0.0 due to no predicted samples. Use `zero_division` parameter to control this behavior.\n",
      "  _warn_prf(average, modifier, f\"{metric.capitalize()} is\", len(result))\n",
      "c:\\Users\\HP\\anaconda3\\Lib\\site-packages\\sklearn\\metrics\\_classification.py:1531: UndefinedMetricWarning: Precision is ill-defined and being set to 0.0 due to no predicted samples. Use `zero_division` parameter to control this behavior.\n",
      "  _warn_prf(average, modifier, f\"{metric.capitalize()} is\", len(result))\n",
      "c:\\Users\\HP\\anaconda3\\Lib\\site-packages\\sklearn\\metrics\\_classification.py:1531: UndefinedMetricWarning: Precision is ill-defined and being set to 0.0 due to no predicted samples. Use `zero_division` parameter to control this behavior.\n",
      "  _warn_prf(average, modifier, f\"{metric.capitalize()} is\", len(result))\n",
      "c:\\Users\\HP\\anaconda3\\Lib\\site-packages\\sklearn\\metrics\\_classification.py:1531: UndefinedMetricWarning: Precision is ill-defined and being set to 0.0 due to no predicted samples. Use `zero_division` parameter to control this behavior.\n",
      "  _warn_prf(average, modifier, f\"{metric.capitalize()} is\", len(result))\n",
      "c:\\Users\\HP\\anaconda3\\Lib\\site-packages\\sklearn\\metrics\\_classification.py:1531: UndefinedMetricWarning: Precision is ill-defined and being set to 0.0 due to no predicted samples. Use `zero_division` parameter to control this behavior.\n",
      "  _warn_prf(average, modifier, f\"{metric.capitalize()} is\", len(result))\n",
      "c:\\Users\\HP\\anaconda3\\Lib\\site-packages\\sklearn\\metrics\\_classification.py:1531: UndefinedMetricWarning: Precision is ill-defined and being set to 0.0 due to no predicted samples. Use `zero_division` parameter to control this behavior.\n",
      "  _warn_prf(average, modifier, f\"{metric.capitalize()} is\", len(result))\n",
      "c:\\Users\\HP\\anaconda3\\Lib\\site-packages\\sklearn\\metrics\\_classification.py:1531: UndefinedMetricWarning: Precision is ill-defined and being set to 0.0 due to no predicted samples. Use `zero_division` parameter to control this behavior.\n",
      "  _warn_prf(average, modifier, f\"{metric.capitalize()} is\", len(result))\n",
      "c:\\Users\\HP\\anaconda3\\Lib\\site-packages\\sklearn\\metrics\\_classification.py:1531: UndefinedMetricWarning: Precision is ill-defined and being set to 0.0 due to no predicted samples. Use `zero_division` parameter to control this behavior.\n",
      "  _warn_prf(average, modifier, f\"{metric.capitalize()} is\", len(result))\n",
      "c:\\Users\\HP\\anaconda3\\Lib\\site-packages\\sklearn\\metrics\\_classification.py:1531: UndefinedMetricWarning: Precision is ill-defined and being set to 0.0 due to no predicted samples. Use `zero_division` parameter to control this behavior.\n",
      "  _warn_prf(average, modifier, f\"{metric.capitalize()} is\", len(result))\n",
      "c:\\Users\\HP\\anaconda3\\Lib\\site-packages\\sklearn\\metrics\\_classification.py:1531: UndefinedMetricWarning: Precision is ill-defined and being set to 0.0 due to no predicted samples. Use `zero_division` parameter to control this behavior.\n",
      "  _warn_prf(average, modifier, f\"{metric.capitalize()} is\", len(result))\n",
      "c:\\Users\\HP\\anaconda3\\Lib\\site-packages\\sklearn\\metrics\\_classification.py:1531: UndefinedMetricWarning: Precision is ill-defined and being set to 0.0 due to no predicted samples. Use `zero_division` parameter to control this behavior.\n",
      "  _warn_prf(average, modifier, f\"{metric.capitalize()} is\", len(result))\n",
      "c:\\Users\\HP\\anaconda3\\Lib\\site-packages\\sklearn\\metrics\\_classification.py:1531: UndefinedMetricWarning: Precision is ill-defined and being set to 0.0 due to no predicted samples. Use `zero_division` parameter to control this behavior.\n",
      "  _warn_prf(average, modifier, f\"{metric.capitalize()} is\", len(result))\n"
     ]
    }
   ],
   "source": [
    "# Loop through each cutoff and calculate performance metrics\n",
    "for cutoff in cutoffs:\n",
    "    y_pred = (y_probs >= cutoff).astype(int)  # classify based on the cutoff\n",
    "    accuracies.append(accuracy_score(y_test, y_pred))\n",
    "    precisions.append(precision_score(y_test, y_pred))\n",
    "    recalls.append(recall_score(y_test, y_pred))\n",
    "    f1_scores.append(f1_score(y_test, y_pred))\n",
    "    auc_scores.append(roc_auc_score(y_test, y_probs))"
   ]
  },
  {
   "cell_type": "code",
   "execution_count": 61,
   "metadata": {},
   "outputs": [
    {
     "data": {
      "text/plain": [
       "array([0, 0, 0, ..., 0, 0, 0])"
      ]
     },
     "execution_count": 61,
     "metadata": {},
     "output_type": "execute_result"
    }
   ],
   "source": [
    "y_pred"
   ]
  },
  {
   "cell_type": "code",
   "execution_count": 59,
   "metadata": {},
   "outputs": [
    {
     "name": "stdout",
     "output_type": "stream",
     "text": [
      "Best cutoff: 0.00\n",
      "Best F1-score: 0.7905\n"
     ]
    }
   ],
   "source": [
    "best_cutoff_index = np.argmax(f1_scores)  # or use another metric like auc_scores\n",
    "best_cutoff = cutoffs[best_cutoff_index]\n",
    "best_f1 = f1_scores[best_cutoff_index]\n",
    "\n",
    "# Print best cutoff and its F1-score\n",
    "print(f\"Best cutoff: {best_cutoff:.2f}\")\n",
    "print(f\"Best F1-score: {best_f1:.4f}\")"
   ]
  },
  {
   "cell_type": "code",
   "execution_count": 66,
   "metadata": {},
   "outputs": [
    {
     "data": {
      "text/plain": [
       "[0.6535336501609689,\n",
       " 0.6535336501609689,\n",
       " 0.6535336501609689,\n",
       " 0.6535336501609689,\n",
       " 0.6535336501609689,\n",
       " 0.6535336501609689,\n",
       " 0.6535336501609689,\n",
       " 0.6535336501609689,\n",
       " 0.6535336501609689,\n",
       " 0.6535336501609689,\n",
       " 0.6535336501609689,\n",
       " 0.6535336501609689,\n",
       " 0.6535336501609689,\n",
       " 0.6535336501609689,\n",
       " 0.6535336501609689,\n",
       " 0.6535336501609689,\n",
       " 0.6535336501609689,\n",
       " 0.6535336501609689,\n",
       " 0.6535336501609689,\n",
       " 0.6535336501609689,\n",
       " 0.6535336501609689,\n",
       " 0.6535336501609689,\n",
       " 0.6535336501609689,\n",
       " 0.6535336501609689,\n",
       " 0.6535336501609689,\n",
       " 0.6535336501609689,\n",
       " 0.6535336501609689,\n",
       " 0.6535336501609689,\n",
       " 0.6535336501609689,\n",
       " 0.6535336501609689,\n",
       " 0.6535336501609689,\n",
       " 0.6535336501609689,\n",
       " 0.6535336501609689,\n",
       " 0.6535336501609689,\n",
       " 0.6535336501609689,\n",
       " 0.6535336501609689,\n",
       " 0.6535336501609689,\n",
       " 0.6535336501609689,\n",
       " 0.6535336501609689,\n",
       " 0.6535336501609689,\n",
       " 0.6535336501609689,\n",
       " 0.6535336501609689,\n",
       " 0.6535336501609689,\n",
       " 0.6535336501609689,\n",
       " 0.6535336501609689,\n",
       " 0.6535336501609689,\n",
       " 0.6535336501609689,\n",
       " 0.6535336501609689,\n",
       " 0.6533650160968879,\n",
       " 0.6530584087076499,\n",
       " 0.6524298635597118,\n",
       " 0.652230568756707,\n",
       " 0.6522612294956308,\n",
       " 0.6523225509734785,\n",
       " 0.6525065154070213,\n",
       " 0.6520312739537023,\n",
       " 0.6516173539782308,\n",
       " 0.6506668710715928,\n",
       " 0.6504215851602023,\n",
       " 0.6495630844703357,\n",
       " 0.6456385098880884,\n",
       " 0.6416066227196076,\n",
       " 0.6340640809443507,\n",
       " 0.6223670090449179,\n",
       " 0.6083397209872758,\n",
       " 0.5856967652920435,\n",
       " 0.5544074812202974,\n",
       " 0.5200061321477848,\n",
       " 0.4844396749961674,\n",
       " 0.45649241146711633,\n",
       " 0.4258623332822321,\n",
       " 0.40024528591139047,\n",
       " 0.3845776483213245,\n",
       " 0.3718534416679442,\n",
       " 0.36075425417752566,\n",
       " 0.3532270427717308,\n",
       " 0.3494097807757167,\n",
       " 0.34847462823854053,\n",
       " 0.34847462823854053,\n",
       " 0.34809136900199295,\n",
       " 0.34692626092288825,\n",
       " 0.34655833205580255,\n",
       " 0.34646634983903113,\n",
       " 0.34646634983903113,\n",
       " 0.34646634983903113,\n",
       " 0.34646634983903113,\n",
       " 0.34646634983903113,\n",
       " 0.34646634983903113,\n",
       " 0.34646634983903113,\n",
       " 0.34646634983903113,\n",
       " 0.34646634983903113,\n",
       " 0.34646634983903113,\n",
       " 0.34646634983903113,\n",
       " 0.34646634983903113,\n",
       " 0.34646634983903113,\n",
       " 0.34646634983903113,\n",
       " 0.34646634983903113,\n",
       " 0.34646634983903113,\n",
       " 0.34646634983903113,\n",
       " 0.34646634983903113,\n",
       " 0.34646634983903113,\n",
       " 0.6535336501609689,\n",
       " 0.6535336501609689,\n",
       " 0.6535336501609689,\n",
       " 0.6535336501609689,\n",
       " 0.6535336501609689,\n",
       " 0.6535336501609689,\n",
       " 0.6535336501609689,\n",
       " 0.6535336501609689,\n",
       " 0.6535336501609689,\n",
       " 0.6535336501609689,\n",
       " 0.6535336501609689,\n",
       " 0.6535336501609689,\n",
       " 0.6535336501609689,\n",
       " 0.6535336501609689,\n",
       " 0.6535336501609689,\n",
       " 0.6535336501609689,\n",
       " 0.6535336501609689,\n",
       " 0.6535336501609689,\n",
       " 0.6535336501609689,\n",
       " 0.6535336501609689,\n",
       " 0.6535336501609689,\n",
       " 0.6535336501609689,\n",
       " 0.6535336501609689,\n",
       " 0.6535336501609689,\n",
       " 0.6535336501609689,\n",
       " 0.6535336501609689,\n",
       " 0.6535336501609689,\n",
       " 0.6535336501609689,\n",
       " 0.6535336501609689,\n",
       " 0.6535336501609689,\n",
       " 0.6535336501609689,\n",
       " 0.6535336501609689,\n",
       " 0.6535336501609689,\n",
       " 0.6535336501609689,\n",
       " 0.6535336501609689,\n",
       " 0.6535336501609689,\n",
       " 0.6535336501609689,\n",
       " 0.6535336501609689,\n",
       " 0.6535336501609689,\n",
       " 0.6535336501609689,\n",
       " 0.6535336501609689,\n",
       " 0.6535336501609689,\n",
       " 0.6535336501609689,\n",
       " 0.6535336501609689,\n",
       " 0.6535336501609689,\n",
       " 0.6535336501609689,\n",
       " 0.6535336501609689,\n",
       " 0.6533650160968879,\n",
       " 0.6530584087076499,\n",
       " 0.6524298635597118,\n",
       " 0.652230568756707,\n",
       " 0.6522612294956308,\n",
       " 0.6523225509734785,\n",
       " 0.6525065154070213,\n",
       " 0.6520312739537023,\n",
       " 0.6516173539782308,\n",
       " 0.6506668710715928,\n",
       " 0.6504215851602023,\n",
       " 0.6495630844703357,\n",
       " 0.6456385098880884,\n",
       " 0.6416066227196076,\n",
       " 0.6340640809443507,\n",
       " 0.6223670090449179,\n",
       " 0.6083397209872758,\n",
       " 0.5856967652920435,\n",
       " 0.5544074812202974,\n",
       " 0.5200061321477848,\n",
       " 0.4844396749961674,\n",
       " 0.45649241146711633,\n",
       " 0.4258623332822321,\n",
       " 0.40024528591139047,\n",
       " 0.3845776483213245,\n",
       " 0.3718534416679442,\n",
       " 0.36075425417752566,\n",
       " 0.3532270427717308,\n",
       " 0.3494097807757167,\n",
       " 0.34847462823854053,\n",
       " 0.34847462823854053,\n",
       " 0.34809136900199295,\n",
       " 0.34692626092288825,\n",
       " 0.34655833205580255,\n",
       " 0.34646634983903113,\n",
       " 0.34646634983903113,\n",
       " 0.34646634983903113,\n",
       " 0.34646634983903113,\n",
       " 0.34646634983903113,\n",
       " 0.34646634983903113,\n",
       " 0.34646634983903113,\n",
       " 0.34646634983903113,\n",
       " 0.34646634983903113,\n",
       " 0.34646634983903113,\n",
       " 0.34646634983903113,\n",
       " 0.34646634983903113,\n",
       " 0.34646634983903113,\n",
       " 0.34646634983903113,\n",
       " 0.34646634983903113,\n",
       " 0.34646634983903113,\n",
       " 0.34646634983903113,\n",
       " 0.34646634983903113,\n",
       " 0.34646634983903113]"
      ]
     },
     "execution_count": 66,
     "metadata": {},
     "output_type": "execute_result"
    }
   ],
   "source": [
    "accuracies"
   ]
  },
  {
   "cell_type": "code",
   "execution_count": 62,
   "metadata": {},
   "outputs": [
    {
     "data": {
      "text/plain": [
       "[0.7904691266456517,\n",
       " 0.7904691266456517,\n",
       " 0.7904691266456517,\n",
       " 0.7904691266456517,\n",
       " 0.7904691266456517,\n",
       " 0.7904691266456517,\n",
       " 0.7904691266456517,\n",
       " 0.7904691266456517,\n",
       " 0.7904691266456517,\n",
       " 0.7904691266456517,\n",
       " 0.7904691266456517,\n",
       " 0.7904691266456517,\n",
       " 0.7904691266456517,\n",
       " 0.7904691266456517,\n",
       " 0.7904691266456517,\n",
       " 0.7904691266456517,\n",
       " 0.7904691266456517,\n",
       " 0.7904691266456517,\n",
       " 0.7904691266456517,\n",
       " 0.7904691266456517,\n",
       " 0.7904691266456517,\n",
       " 0.7904691266456517,\n",
       " 0.7904691266456517,\n",
       " 0.7904691266456517,\n",
       " 0.7904691266456517,\n",
       " 0.7904691266456517,\n",
       " 0.7904691266456517,\n",
       " 0.7904691266456517,\n",
       " 0.7904691266456517,\n",
       " 0.7904691266456517,\n",
       " 0.7904691266456517,\n",
       " 0.7904691266456517,\n",
       " 0.7904691266456517,\n",
       " 0.7904691266456517,\n",
       " 0.7904691266456517,\n",
       " 0.7904691266456517,\n",
       " 0.7904691266456517,\n",
       " 0.7904691266456517,\n",
       " 0.7904691266456517,\n",
       " 0.7904691266456517,\n",
       " 0.7904691266456517,\n",
       " 0.7904691266456517,\n",
       " 0.7904691266456517,\n",
       " 0.7904691266456517,\n",
       " 0.7904691266456517,\n",
       " 0.7904691266456517,\n",
       " 0.7904691266456517,\n",
       " 0.7904691266456517,\n",
       " 0.7902757552428742,\n",
       " 0.7899343747969517,\n",
       " 0.7892936802973978,\n",
       " 0.7890846543628841,\n",
       " 0.7888362393989891,\n",
       " 0.7884717623466866,\n",
       " 0.7884495132854863,\n",
       " 0.7876826370830449,\n",
       " 0.7869298204491116,\n",
       " 0.7853543203247897,\n",
       " 0.7842198397002186,\n",
       " 0.7824464895834324,\n",
       " 0.7766860852679477,\n",
       " 0.769611321349732,\n",
       " 0.758576745691399,\n",
       " 0.7420006912659594,\n",
       " 0.7213168401073369,\n",
       " 0.68457848480958,\n",
       " 0.6322621457489879,\n",
       " 0.5633193863319387,\n",
       " 0.483267262837651,\n",
       " 0.406395981582252,\n",
       " 0.3149750324669386,\n",
       " 0.2266851156355011,\n",
       " 0.1674478410552076,\n",
       " 0.11254061078622482,\n",
       " 0.06359757466876263,\n",
       " 0.031184696994052404,\n",
       " 0.012656460844074263,\n",
       " 0.00900081613617815,\n",
       " 0.00900081613617815,\n",
       " 0.007190885319387374,\n",
       " 0.0018744142455482662,\n",
       " 0.0005627462014631402,\n",
       " 0.0,\n",
       " 0.0,\n",
       " 0.0,\n",
       " 0.0,\n",
       " 0.0,\n",
       " 0.0,\n",
       " 0.0,\n",
       " 0.0,\n",
       " 0.0,\n",
       " 0.0,\n",
       " 0.0,\n",
       " 0.0,\n",
       " 0.0,\n",
       " 0.0,\n",
       " 0.0,\n",
       " 0.0,\n",
       " 0.0,\n",
       " 0.0,\n",
       " 0.0,\n",
       " 0.7904691266456517,\n",
       " 0.7904691266456517,\n",
       " 0.7904691266456517,\n",
       " 0.7904691266456517,\n",
       " 0.7904691266456517,\n",
       " 0.7904691266456517,\n",
       " 0.7904691266456517,\n",
       " 0.7904691266456517,\n",
       " 0.7904691266456517,\n",
       " 0.7904691266456517,\n",
       " 0.7904691266456517,\n",
       " 0.7904691266456517,\n",
       " 0.7904691266456517,\n",
       " 0.7904691266456517,\n",
       " 0.7904691266456517,\n",
       " 0.7904691266456517,\n",
       " 0.7904691266456517,\n",
       " 0.7904691266456517,\n",
       " 0.7904691266456517,\n",
       " 0.7904691266456517,\n",
       " 0.7904691266456517,\n",
       " 0.7904691266456517,\n",
       " 0.7904691266456517,\n",
       " 0.7904691266456517,\n",
       " 0.7904691266456517,\n",
       " 0.7904691266456517,\n",
       " 0.7904691266456517,\n",
       " 0.7904691266456517,\n",
       " 0.7904691266456517,\n",
       " 0.7904691266456517,\n",
       " 0.7904691266456517,\n",
       " 0.7904691266456517,\n",
       " 0.7904691266456517,\n",
       " 0.7904691266456517,\n",
       " 0.7904691266456517,\n",
       " 0.7904691266456517,\n",
       " 0.7904691266456517,\n",
       " 0.7904691266456517,\n",
       " 0.7904691266456517,\n",
       " 0.7904691266456517,\n",
       " 0.7904691266456517,\n",
       " 0.7904691266456517,\n",
       " 0.7904691266456517,\n",
       " 0.7904691266456517,\n",
       " 0.7904691266456517,\n",
       " 0.7904691266456517,\n",
       " 0.7904691266456517,\n",
       " 0.7902757552428742,\n",
       " 0.7899343747969517,\n",
       " 0.7892936802973978,\n",
       " 0.7890846543628841,\n",
       " 0.7888362393989891,\n",
       " 0.7884717623466866,\n",
       " 0.7884495132854863,\n",
       " 0.7876826370830449,\n",
       " 0.7869298204491116,\n",
       " 0.7853543203247897,\n",
       " 0.7842198397002186,\n",
       " 0.7824464895834324,\n",
       " 0.7766860852679477,\n",
       " 0.769611321349732,\n",
       " 0.758576745691399,\n",
       " 0.7420006912659594,\n",
       " 0.7213168401073369,\n",
       " 0.68457848480958,\n",
       " 0.6322621457489879,\n",
       " 0.5633193863319387,\n",
       " 0.483267262837651,\n",
       " 0.406395981582252,\n",
       " 0.3149750324669386,\n",
       " 0.2266851156355011,\n",
       " 0.1674478410552076,\n",
       " 0.11254061078622482,\n",
       " 0.06359757466876263,\n",
       " 0.031184696994052404,\n",
       " 0.012656460844074263,\n",
       " 0.00900081613617815,\n",
       " 0.00900081613617815,\n",
       " 0.007190885319387374,\n",
       " 0.0018744142455482662,\n",
       " 0.0005627462014631402,\n",
       " 0.0,\n",
       " 0.0,\n",
       " 0.0,\n",
       " 0.0,\n",
       " 0.0,\n",
       " 0.0,\n",
       " 0.0,\n",
       " 0.0,\n",
       " 0.0,\n",
       " 0.0,\n",
       " 0.0,\n",
       " 0.0,\n",
       " 0.0,\n",
       " 0.0,\n",
       " 0.0,\n",
       " 0.0,\n",
       " 0.0,\n",
       " 0.0,\n",
       " 0.0]"
      ]
     },
     "execution_count": 62,
     "metadata": {},
     "output_type": "execute_result"
    }
   ],
   "source": [
    "f1_scores"
   ]
  },
  {
   "cell_type": "code",
   "execution_count": 70,
   "metadata": {},
   "outputs": [],
   "source": [
    "# FIND BEST F1 SCORE\n",
    "best_cutoff = 0\n",
    "best_f1 = 0  # Variable to store the best F1 score\n",
    "for cutoff in cutoff_values:\n",
    "    # Convert probabilities to binary predictions based on the cutoff\n",
    "    y_pred = (y_pred_proba >= cutoff).astype(int)\n",
    "    \n",
    "    # Calculate evaluation metrics\n",
    "    f1 = f1_score(y_test, y_pred)\n",
    "    \n",
    "    # Track the best cutoff value based on F1 score\n",
    "    if f1 > best_f1:\n",
    "        best_f1 = f1\n",
    "        best_cutoff = cutoff"
   ]
  },
  {
   "cell_type": "code",
   "execution_count": 53,
   "metadata": {},
   "outputs": [
    {
     "name": "stdout",
     "output_type": "stream",
     "text": [
      "Best cutoff: 0.00\n",
      "Best F1 score: 0.7905\n"
     ]
    }
   ],
   "source": [
    "print(f\"Best cutoff: {best_cutoff:.2f}\")\n",
    "print(f\"Best F1 score: {best_f1:.4f}\")"
   ]
  }
 ],
 "metadata": {
  "kernelspec": {
   "display_name": "Python 3",
   "language": "python",
   "name": "python3"
  },
  "language_info": {
   "codemirror_mode": {
    "name": "ipython",
    "version": 3
   },
   "file_extension": ".py",
   "mimetype": "text/x-python",
   "name": "python",
   "nbconvert_exporter": "python",
   "pygments_lexer": "ipython3",
   "version": "3.12.7"
  }
 },
 "nbformat": 4,
 "nbformat_minor": 2
}
